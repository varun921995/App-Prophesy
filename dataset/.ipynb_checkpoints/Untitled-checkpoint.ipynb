{
 "cells": [
  {
   "cell_type": "code",
   "execution_count": 1,
   "metadata": {},
   "outputs": [],
   "source": [
    "import re\n",
    "import sys\n",
    "\n",
    "import time\n",
    "import datetime\n",
    "\n",
    "import numpy as np\n",
    "import pandas as pd\n",
    "\n",
    "import seaborn as sns\n",
    "import matplotlib.pyplot as plt\n",
    "\n",
    "from sklearn import metrics\n",
    "from sklearn import preprocessing\n",
    "from sklearn.neighbors import KNeighborsClassifier\n",
    "from sklearn.neighbors import KNeighborsRegressor\n",
    "from sklearn.ensemble import RandomForestClassifier\n",
    "from sklearn.ensemble import RandomForestRegressor\n",
    "from sklearn.model_selection import train_test_split\n",
    "import random\n"
   ]
  },
  {
   "cell_type": "code",
   "execution_count": 2,
   "metadata": {},
   "outputs": [
    {
     "name": "stdout",
     "output_type": "stream",
     "text": [
      "There are 32000 rows and 11 columns\n"
     ]
    }
   ],
   "source": [
    "data = pd.read_csv('Google-Playstore-32K.csv', delimiter=',')\n",
    "data.dataframeName = 'Google-Playstore-32K.csv'\n",
    "nRow, nCol = data.shape\n",
    "print(f'There are {nRow} rows and {nCol} columns')\n"
   ]
  },
  {
   "cell_type": "code",
   "execution_count": 3,
   "metadata": {},
   "outputs": [
    {
     "name": "stdout",
     "output_type": "stream",
     "text": [
      "<class 'pandas.core.frame.DataFrame'>\n",
      "Int64Index: 30845 entries, 6941 to 24784\n",
      "Data columns (total 11 columns):\n",
      "App Name           30845 non-null object\n",
      "Category           30845 non-null object\n",
      "Rating             30845 non-null object\n",
      "Reviews            30844 non-null float64\n",
      "Installs           30845 non-null object\n",
      "Size               30845 non-null object\n",
      "Price              30845 non-null object\n",
      "Content Rating     30845 non-null object\n",
      "Last Updated       30845 non-null object\n",
      "Minimum Version    30845 non-null object\n",
      "Latest Version     30844 non-null object\n",
      "dtypes: float64(1), object(10)\n",
      "memory usage: 2.8+ MB\n"
     ]
    }
   ],
   "source": [
    "data = data.sort_values('Installs', ascending=False)\n",
    "data = data.drop_duplicates(subset='App Name', keep='first')\n",
    "data.info()"
   ]
  },
  {
   "cell_type": "code",
   "execution_count": 4,
   "metadata": {},
   "outputs": [
    {
     "data": {
      "text/html": [
       "<div>\n",
       "<style scoped>\n",
       "    .dataframe tbody tr th:only-of-type {\n",
       "        vertical-align: middle;\n",
       "    }\n",
       "\n",
       "    .dataframe tbody tr th {\n",
       "        vertical-align: top;\n",
       "    }\n",
       "\n",
       "    .dataframe thead th {\n",
       "        text-align: right;\n",
       "    }\n",
       "</style>\n",
       "<table border=\"1\" class=\"dataframe\">\n",
       "  <thead>\n",
       "    <tr style=\"text-align: right;\">\n",
       "      <th></th>\n",
       "      <th>Col</th>\n",
       "      <th>Count</th>\n",
       "      <th>Null_Rates</th>\n",
       "    </tr>\n",
       "  </thead>\n",
       "  <tbody>\n",
       "    <tr>\n",
       "      <td>0</td>\n",
       "      <td>Reviews</td>\n",
       "      <td>1</td>\n",
       "      <td>0.003242</td>\n",
       "    </tr>\n",
       "    <tr>\n",
       "      <td>1</td>\n",
       "      <td>Latest Version</td>\n",
       "      <td>1</td>\n",
       "      <td>0.003242</td>\n",
       "    </tr>\n",
       "  </tbody>\n",
       "</table>\n",
       "</div>"
      ],
      "text/plain": [
       "              Col  Count  Null_Rates\n",
       "0         Reviews      1    0.003242\n",
       "1  Latest Version      1    0.003242"
      ]
     },
     "execution_count": 4,
     "metadata": {},
     "output_type": "execute_result"
    }
   ],
   "source": [
    "#detect null cols and null rate\n",
    "nulls = [i for i in data.isna().any().index if data.isna().any()[i]==True]\n",
    "rates = []\n",
    "counts = []\n",
    "for i in nulls:    \n",
    "    rates.append((data[i].isna().sum()/data.shape[0])*100)\n",
    "    counts.append(data[i].isna().sum())\n",
    "null_df = pd.DataFrame.from_dict({\"Col\":nulls,\"Count\":counts,\"Null_Rates\":rates})\n",
    "\n",
    "\n",
    "\n",
    "df_train = data.copy()\n",
    "#delete Reviews, Latest Version, null values row\n",
    "for i in ['Reviews','Latest Version']:\n",
    "    df_train = df_train.drop(df_train.loc[df_train[i].isnull()].index,0)\n",
    "df_train.info()"
   ]
  },
  {
   "cell_type": "code",
   "execution_count": 5,
   "metadata": {},
   "outputs": [
    {
     "name": "stdout",
     "output_type": "stream",
     "text": [
      "<class 'pandas.core.frame.DataFrame'>\n",
      "Int64Index: 30843 entries, 13504 to 24784\n",
      "Data columns (total 11 columns):\n",
      "App Name           30843 non-null object\n",
      "Category           30843 non-null object\n",
      "Rating             30843 non-null object\n",
      "Reviews            30843 non-null float64\n",
      "Installs           30843 non-null object\n",
      "Size               30843 non-null object\n",
      "Price              30843 non-null object\n",
      "Content Rating     30843 non-null object\n",
      "Last Updated       30843 non-null object\n",
      "Minimum Version    30843 non-null object\n",
      "Latest Version     30843 non-null object\n",
      "dtypes: float64(1), object(10)\n",
      "memory usage: 2.8+ MB\n"
     ]
    }
   ],
   "source": []
  },
  {
   "cell_type": "code",
   "execution_count": 6,
   "metadata": {},
   "outputs": [
    {
     "data": {
      "text/plain": [
       "count    30843.000000\n",
       "mean         4.268535\n",
       "std          0.501046\n",
       "min          1.000000\n",
       "25%          4.086957\n",
       "50%          4.373173\n",
       "75%          4.581750\n",
       "max          5.000000\n",
       "Name: Rating, dtype: float64"
      ]
     },
     "execution_count": 6,
     "metadata": {},
     "output_type": "execute_result"
    }
   ],
   "source": [
    "df_train['Rating'].replace('Lessons', np.nan, inplace=True)\n",
    "df_train['Rating'].replace('GAME_STRATEGY', np.nan, inplace=True)\n",
    "df_train['Rating'].replace('NEWS_AND_MAGAZINES', np.nan, inplace=True)\n",
    "df_train['Rating'] = df_train['Rating'].fillna(df_train['Rating'].median())\n",
    "# for i in ['Rating']:\n",
    "#     df_train = df_train.drop(df_train.loc[df_train[i].isnull()].index,0)\n",
    "df_train['Rating'].astype(float).describe()\n"
   ]
  },
  {
   "cell_type": "code",
   "execution_count": null,
   "metadata": {},
   "outputs": [],
   "source": []
  },
  {
   "cell_type": "code",
   "execution_count": 7,
   "metadata": {},
   "outputs": [
    {
     "data": {
      "text/plain": [
       "array(['6', '500000000', '500000', '500', '50000000', '50000', '50',\n",
       "       '5000000000', '5000000', '5000', '5', '11976', '100000000',\n",
       "       '100000', '100', '10000000', '10000', '10', '1000000000',\n",
       "       '1000000', '1000', '1', '0'], dtype=object)"
      ]
     },
     "execution_count": 7,
     "metadata": {},
     "output_type": "execute_result"
    }
   ],
   "source": [
    "df_train['Installs'] = df_train['Installs'].apply(lambda x : x.strip('+').replace(',', ''))\n",
    "df_train.Installs.unique()\n"
   ]
  },
  {
   "cell_type": "code",
   "execution_count": 8,
   "metadata": {},
   "outputs": [
    {
     "data": {
      "text/plain": [
       "51"
      ]
     },
     "execution_count": 8,
     "metadata": {},
     "output_type": "execute_result"
    }
   ],
   "source": [
    "len(df_train.Category.unique())"
   ]
  },
  {
   "cell_type": "code",
   "execution_count": 9,
   "metadata": {},
   "outputs": [],
   "source": [
    "\n",
    "regex = [r'GAME_[A-Za-z]+.*']\n",
    "for j in regex:\n",
    "    df_train['Category'] = df_train['Category'].astype(str).apply(lambda x : re.sub(j, 'GAME', x))"
   ]
  },
  {
   "cell_type": "code",
   "execution_count": 10,
   "metadata": {},
   "outputs": [
    {
     "data": {
      "text/plain": [
       "array([')', 'HEALTH_AND_FITNESS', 'PRODUCTIVITY', 'GAME', 'ENTERTAINMENT',\n",
       "       'TOOLS', 'COMMUNICATION', 'NEWS_AND_MAGAZINES', 'VIDEO_PLAYERS',\n",
       "       'SOCIAL', 'WEATHER', 'LIFESTYLE', 'MAPS_AND_NAVIGATION',\n",
       "       'EDUCATION', 'PERSONALIZATION', 'SHOPPING', 'TRAVEL_AND_LOCAL',\n",
       "       'FINANCE', 'SPORTS', 'BOOKS_AND_REFERENCE', 'MUSIC_AND_AUDIO',\n",
       "       'FOOD_AND_DRINK', 'MEDICAL', 'BUSINESS', 'AUTO_AND_VEHICLES',\n",
       "       'PHOTOGRAPHY', 'BEAUTY', 'HOUSE_AND_HOME', 'PARENTING', 'COMICS',\n",
       "       'EVENTS', 'DATING', 'LIBRARIES_AND_DEMO', 'ART_AND_DESIGN',\n",
       "       ' Channel 2 News'], dtype=object)"
      ]
     },
     "execution_count": 10,
     "metadata": {},
     "output_type": "execute_result"
    }
   ],
   "source": [
    "df_train.Category.unique()"
   ]
  },
  {
   "cell_type": "code",
   "execution_count": 11,
   "metadata": {},
   "outputs": [],
   "source": [
    "regex = [r'[-+|/:/;(_)@\\[\\]#�,>]', r'\\s+', r'[A-Za-z]+']\n",
    "for j in regex:\n",
    "    df_train['Latest Version'] = df_train['Latest Version'].astype(str).apply(lambda x : re.sub(j, '0', x))\n",
    "df_train['Latest Version'].replace('?.?', np.nan, inplace=True)\n",
    "\n",
    "df_train['Latest Version'] = df_train['Latest Version'].astype(str).apply(lambda x : x.replace('.', ',',1).replace('.', '').replace(',', '.',1)[:3]).astype(float)\n",
    "df_train['Latest Version'] = df_train['Latest Version'].fillna(df_train['Latest Version'].median())\n"
   ]
  },
  {
   "cell_type": "code",
   "execution_count": 12,
   "metadata": {},
   "outputs": [
    {
     "data": {
      "text/plain": [
       "array([4.00e+00, 6.20e+00, 0.00e+00, 1.40e+00, 5.20e+00, 2.10e+00,\n",
       "       1.36e+02, 1.00e+01, 3.10e+00, 4.90e+00, 1.20e+01, 1.10e+00,\n",
       "       9.40e+00, 1.50e+00, 4.10e+00, 1.10e+01, 1.50e+01, 1.00e+00,\n",
       "       4.70e+00, 4.30e+00, 1.60e+00, 1.30e+00, 5.10e+00, 1.20e+00,\n",
       "       3.20e+00, 7.20e+00, 1.70e+00, 1.00e-01, 3.90e+00, 2.30e+00,\n",
       "       9.20e+00, 3.30e+00, 1.90e+00, 2.40e+00, 1.80e+00, 4.20e+00,\n",
       "       2.70e+00, 2.20e+00, 6.10e+00, 2.00e+00, 1.30e+01, 2.01e+02,\n",
       "       5.50e+00, 4.00e+01, 4.60e+00, 6.30e+00, 3.70e+00, 3.00e+00,\n",
       "       2.50e+00, 2.90e+00, 3.40e+00, 2.80e+00, 5.80e+00, 3.50e+00,\n",
       "       5.00e-01, 2.60e+00, 2.50e+01, 4.50e+00, 4.60e+01, 2.10e+01,\n",
       "       1.90e+01, 8.30e+00, 7.00e+00, 8.93e+02, 5.00e+00, 4.40e+00,\n",
       "       3.80e+00, 7.60e+00, 2.00e-01, 3.60e+00, 9.90e+00, 3.10e+02,\n",
       "       8.10e+00, 6.00e+00, 5.70e+00, 5.90e+00, 8.00e+00, 7.10e+00,\n",
       "       6.60e+00, 7.30e+00, 6.80e+00, 7.50e+00, 2.73e+02, 5.30e+00,\n",
       "       7.00e-01, 1.40e+01, 9.10e+00, 1.70e+01, 5.60e+00, 6.70e+00,\n",
       "       1.80e+01, 9.00e+00, 8.20e+00, 4.50e+01, 4.80e+00, 6.40e+00,\n",
       "       9.00e-01, 7.40e+00, 9.00e+02, 1.79e+02, 7.80e+00, 1.43e+02,\n",
       "       1.60e+01, 5.40e+00, 4.00e-01, 8.10e+01, 2.52e+02, 4.10e+01,\n",
       "       8.00e-01, 9.40e+01, 6.00e-01, 2.00e+01, 8.90e+00, 4.20e+01,\n",
       "       7.70e+00, 3.10e+01, 1.80e+02, 8.50e+00, 6.90e+00, 6.50e+00,\n",
       "       5.90e+01, 7.90e+00, 9.30e+00, 7.80e+01, 1.14e+02, 6.10e+01,\n",
       "       1.50e+02, 2.60e+01, 7.15e+02, 2.40e+01, 6.50e+01, 3.33e+02,\n",
       "       3.00e-01, 8.70e+00, 9.80e+00, 2.90e+01, 9.50e+00, 8.40e+00,\n",
       "       3.30e+01, 5.02e+02, 9.70e+00, 1.41e+02, 1.47e+02, 2.08e+02,\n",
       "       1.71e+02, 9.60e+00, 3.00e+02, 7.50e+01, 2.60e+02, 8.60e+00,\n",
       "       3.60e+01, 3.95e+02, 1.05e+02, 3.70e+01, 6.05e+02, 3.50e+01,\n",
       "       1.69e+02, 2.20e+01, 5.10e+01, 6.60e+01, 9.80e+01, 2.70e+01,\n",
       "       6.00e+01, 2.80e+01, 8.00e+01, 5.60e+01, 5.20e+01, 1.70e+02,\n",
       "       2.00e+02, 1.90e+02, 2.10e+02, 3.20e+01, 1.07e+02, 1.00e+02,\n",
       "       5.14e+02, 1.08e+02, 7.30e+01, 1.10e+02, 7.00e+01, 5.30e+02,\n",
       "       4.80e+01, 3.40e+01, 3.00e+01, 1.57e+02, 7.70e+01, 5.50e+01,\n",
       "       1.30e+02, 1.06e+02, 8.80e+00, 8.70e+01, 3.80e+01, 9.00e+01,\n",
       "       1.01e+02, 1.28e+02, 1.59e+02, 9.19e+02, 5.00e+01, 1.21e+02,\n",
       "       2.30e+01, 1.82e+02, 3.24e+02, 1.45e+02, 1.11e+02, 8.40e+01,\n",
       "       1.52e+02, 1.02e+02, 1.04e+02, 5.40e+01, 4.97e+02, 1.51e+02,\n",
       "       1.22e+02, 4.30e+01, 8.80e+01, 8.50e+01, 1.55e+02, 4.70e+01,\n",
       "       8.60e+01, 5.30e+01, 2.70e+02, 1.13e+02, 4.40e+01, 8.90e+01,\n",
       "       9.60e+01, 7.10e+01, 1.12e+02, 3.78e+02, 7.40e+01, 8.20e+01,\n",
       "       6.80e+02, 2.39e+02, 1.75e+02, 4.41e+02, 9.30e+01, 6.20e+01,\n",
       "       3.90e+01, 9.10e+01, 5.00e+02, 6.80e+01, 4.00e+02, 1.37e+02,\n",
       "       1.03e+02, 8.78e+02, 8.14e+02, 6.70e+01, 1.77e+02, 8.89e+02,\n",
       "       8.18e+02, 1.44e+02, 2.54e+02, 1.78e+02, 4.14e+02, 4.90e+01,\n",
       "       1.61e+02, 1.65e+02, 3.92e+02, 2.20e+02, 1.76e+02, 7.60e+01,\n",
       "       2.05e+02, 4.08e+02, 9.50e+01, 3.11e+02, 4.22e+02, 1.42e+02,\n",
       "       1.81e+02, 2.80e+02])"
      ]
     },
     "execution_count": 12,
     "metadata": {},
     "output_type": "execute_result"
    }
   ],
   "source": [
    "df_train['Latest Version'].unique()"
   ]
  },
  {
   "cell_type": "code",
   "execution_count": null,
   "metadata": {},
   "outputs": [],
   "source": []
  },
  {
   "cell_type": "code",
   "execution_count": 13,
   "metadata": {},
   "outputs": [],
   "source": [
    "df_train['Category'].replace(' Channel 2 News', np.nan, inplace=True)\n",
    "df_train['Category'].replace(')', np.nan, inplace=True)\n",
    "df_train = df_train[pd.notnull(df_train['Category'])]\n"
   ]
  },
  {
   "cell_type": "code",
   "execution_count": 14,
   "metadata": {},
   "outputs": [],
   "source": [
    "# App values encoding\n",
    "le = preprocessing.LabelEncoder()\n",
    "df_train['App Name'] = le.fit_transform(df_train['App Name'])"
   ]
  },
  {
   "cell_type": "code",
   "execution_count": null,
   "metadata": {},
   "outputs": [],
   "source": []
  },
  {
   "cell_type": "code",
   "execution_count": 15,
   "metadata": {},
   "outputs": [],
   "source": [
    "# Category features encoding\n",
    "category_list = df_train['Category'].unique().tolist() \n",
    "category_list = ['cat_' + word for word in category_list]\n",
    "df_train = pd.concat([df_train, pd.get_dummies(df_train['Category'], prefix='cat')], axis=1)\n"
   ]
  },
  {
   "cell_type": "code",
   "execution_count": 16,
   "metadata": {},
   "outputs": [],
   "source": [
    "# Encode Content Rating features\n",
    "le = preprocessing.LabelEncoder()\n",
    "df_train['Content Rating'] = le.fit_transform(df_train['Content Rating'])"
   ]
  },
  {
   "cell_type": "code",
   "execution_count": 17,
   "metadata": {},
   "outputs": [],
   "source": [
    "# Price cealning\n",
    "df_train['Price'] = df_train['Price'].apply(lambda x : x.strip('$'))"
   ]
  },
  {
   "cell_type": "code",
   "execution_count": 18,
   "metadata": {},
   "outputs": [
    {
     "data": {
      "text/plain": [
       "array(['0', '1.99', '0.99', '4.99', '6.99', '2.99', '9.99', '3.75',\n",
       "       '3.99', '2.49', '2.79', '7.99', '5.99', '14.99', '4.49', '4.95',\n",
       "       '1.49', '3.85', '15.99', '12.99', '24.99', '6.49', '5.49', '3.00',\n",
       "       '29.99', '3.49', '7.49', '84.99', '9.49', '39.99', '6.00', '8.99',\n",
       "       '1.00', '12.00', '2.00', '2.50', '5.00', '5.74', '4.69', '11.99',\n",
       "       '8.80', '1.20', '8.49', '54.99', '10.75', '1.40', '18.60', '5.78',\n",
       "       '19.99', '2.40', '5.33', '3.22', '4.89', '10.99', '1.19', '4.00',\n",
       "       '1.97', '3.29', '9.00', '2.20', '3.95', '1.29', '13.99', '14.01',\n",
       "       '1.26', '14.93', '32.99', '1.09', '22.99', '9.79', '1.50', '1.80',\n",
       "       '5.76', '14.73', '45.99', '9.95', '3.81', '10.00', '3.55', '1.25',\n",
       "       '6.71', '1.90', '27.99', '1.59', '74.99', '7.74', '6.30', '23.99',\n",
       "       '2.90', '1.05', '399.99', '6.29', '31.99', '79.99', '21.00',\n",
       "       '34.99', '99.99', '2.59', '17.99', '4.50', '299.99'], dtype=object)"
      ]
     },
     "execution_count": 18,
     "metadata": {},
     "output_type": "execute_result"
    }
   ],
   "source": [
    "df_train.Price.unique()"
   ]
  },
  {
   "cell_type": "code",
   "execution_count": 19,
   "metadata": {},
   "outputs": [],
   "source": [
    "df_train['Price'].replace('Varies with device', np.nan, inplace=True)\n",
    "df_train['Price'] = df_train['Price'].fillna(df_train['Price'].median())\n"
   ]
  },
  {
   "cell_type": "code",
   "execution_count": 20,
   "metadata": {},
   "outputs": [],
   "source": [
    "df_train['Type'] = np.where(df_train['Price'].astype(float) > 0, 'Paid', 'Free')\n"
   ]
  },
  {
   "cell_type": "code",
   "execution_count": 21,
   "metadata": {},
   "outputs": [],
   "source": [
    "# Type encoding\n",
    "df_train['Type'] = pd.get_dummies(df_train['Type'])\n"
   ]
  },
  {
   "cell_type": "code",
   "execution_count": 22,
   "metadata": {},
   "outputs": [],
   "source": [
    "df_train['Last Updated'].replace('Everyone 10+', np.nan, inplace=True)\n",
    "df_train = df_train[pd.notnull(df_train['Last Updated'])]\n",
    "\n",
    "df_train['Last Updated'] = df_train['Last Updated'].apply(lambda x : time.mktime(datetime.datetime.strptime(x, '%B %d, %Y').timetuple()))\n"
   ]
  },
  {
   "cell_type": "code",
   "execution_count": 23,
   "metadata": {},
   "outputs": [],
   "source": [
    "# from datetime import datetime,date\n",
    "# temp=pd.to_datetime(df_train['Last Updated'])\n",
    "# temp.head()\n",
    "# df_train['Last_Updated_Days'] = temp.apply(lambda x:date.today()-datetime.date(x))\n",
    "# df_train['Last_Updated_Days'] = df_train['Last_Updated_Days'].astype(str)\n",
    "\n",
    "# regex = [r'days.*']\n",
    "# for j in regex:\n",
    "#     df_train['Last_Updated_Days'] = df_train['Last_Updated_Days'].astype(str).apply(lambda x : re.sub(j, '', x))\n",
    "# df_train['Last_Updated_Days'] = df_train['Last_Updated_Days'].astype(int)\n"
   ]
  },
  {
   "cell_type": "code",
   "execution_count": 24,
   "metadata": {},
   "outputs": [],
   "source": [
    "regex = [r',']\n",
    "for j in regex:\n",
    "    df_train['Size'] = df_train['Size'].astype(str).apply(lambda x : re.sub(j, '', x))\n",
    "    \n",
    "# Convert kbytes to Mbytes \n",
    "k_indices = df_train['Size'].loc[df_train['Size'].str.contains('k')].index.tolist()\n",
    "converter = pd.DataFrame(df_train.loc[k_indices, 'Size'].apply(lambda x: x.strip('k')).astype(float).apply(lambda x: x / 1024).apply(lambda x: round(x, 3)).astype(str))\n",
    "df_train.loc[k_indices,'Size'] = converter\n",
    "\n",
    "\n",
    "df_train['Size'] = df_train['Size'].apply(lambda x: x.strip('M'))\n",
    "df_train.loc[df_train['Size'] == 'Varies with device', 'Size'] = 0\n",
    "# df_train[df_train['Size'] == 'Varies with device','Size'] = 0\n",
    "df_train['Size'] = df_train['Size'].astype(float)\n",
    "\n"
   ]
  },
  {
   "cell_type": "code",
   "execution_count": null,
   "metadata": {},
   "outputs": [],
   "source": []
  },
  {
   "cell_type": "code",
   "execution_count": 25,
   "metadata": {},
   "outputs": [],
   "source": [
    "regex = [r'[-+|/:/;(_)@\\[\\]#�,>]', r'\\s+', r'[A-Za-z]+']\n",
    "for j in regex:\n",
    "    df_train['Minimum Version'] = df_train['Minimum Version'].astype(str).apply(lambda x : re.sub(j, '0', x))\n",
    "\n",
    "df_train['Minimum Version'] = df_train['Minimum Version'].astype(str).apply(lambda x : x.replace('.', ',',1).replace('.', '').replace(',', '.',1)[:3]).astype(float)\n",
    "df_train['Minimum Version'] = df_train['Minimum Version'].fillna(df_train['Minimum Version'].median())\n"
   ]
  },
  {
   "cell_type": "code",
   "execution_count": null,
   "metadata": {},
   "outputs": [],
   "source": []
  },
  {
   "cell_type": "code",
   "execution_count": null,
   "metadata": {},
   "outputs": [],
   "source": []
  },
  {
   "cell_type": "code",
   "execution_count": null,
   "metadata": {},
   "outputs": [],
   "source": []
  },
  {
   "cell_type": "code",
   "execution_count": 26,
   "metadata": {},
   "outputs": [],
   "source": [
    "df_train['Installs'] = df_train['Installs'].astype(int)\n",
    "df_train['Price'] = df_train['Price'].astype(float)\n",
    "df_train['Rating'] = df_train['Rating'].astype(float)\n",
    "df_train['Reviews'] = df_train['Reviews'].astype(int)\n",
    "# df_train['Last Updated'] = df_train['Last Updated'].astype(float)"
   ]
  },
  {
   "cell_type": "code",
   "execution_count": null,
   "metadata": {},
   "outputs": [],
   "source": []
  },
  {
   "cell_type": "code",
   "execution_count": null,
   "metadata": {},
   "outputs": [],
   "source": []
  },
  {
   "cell_type": "code",
   "execution_count": 27,
   "metadata": {},
   "outputs": [],
   "source": [
    "df_train['Rating'] =df_train['Rating'].apply(lambda x: round(x, 2))\n"
   ]
  },
  {
   "cell_type": "code",
   "execution_count": 65,
   "metadata": {},
   "outputs": [],
   "source": [
    "# Split data into training and testing sets\n",
    "features = ['App Name', 'Reviews', 'Size', 'Rating', 'Type', 'Price', 'Content Rating', 'Last Updated', 'Latest Version']\n",
    "features.extend(category_list)\n",
    "X = df_train[features]\n",
    "y = df_train['Installs']\n",
    "\n",
    "# Takin\n",
    "X_train, X_test, y_train, y_test = train_test_split(X[:10000], y[:10000], test_size = 0.25, random_state = 10)\n"
   ]
  },
  {
   "cell_type": "code",
   "execution_count": 66,
   "metadata": {},
   "outputs": [
    {
     "data": {
      "text/plain": [
       "'Accuracy: 80.2%'"
      ]
     },
     "execution_count": 66,
     "metadata": {},
     "output_type": "execute_result"
    }
   ],
   "source": [
    "import xgboost as xgb\n",
    "\n",
    "xgbModel = xgb.XGBClassifier()\n",
    "xgbModel.fit(X_train, y_train)\n",
    "accuracy = xgbModel.score(X_test,y_test)\n",
    "'Accuracy: ' + str(np.round(accuracy*100, 2)) + '%'"
   ]
  },
  {
   "cell_type": "code",
   "execution_count": null,
   "metadata": {},
   "outputs": [],
   "source": []
  }
 ],
 "metadata": {
  "kernelspec": {
   "display_name": "Python 3",
   "language": "python",
   "name": "python3"
  },
  "language_info": {
   "codemirror_mode": {
    "name": "ipython",
    "version": 3
   },
   "file_extension": ".py",
   "mimetype": "text/x-python",
   "name": "python",
   "nbconvert_exporter": "python",
   "pygments_lexer": "ipython3",
   "version": "3.7.4"
  }
 },
 "nbformat": 4,
 "nbformat_minor": 2
}
