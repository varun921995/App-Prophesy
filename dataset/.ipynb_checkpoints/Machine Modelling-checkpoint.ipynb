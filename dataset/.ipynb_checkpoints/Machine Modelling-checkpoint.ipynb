{
 "cells": [
  {
   "cell_type": "code",
   "execution_count": 4,
   "metadata": {},
   "outputs": [],
   "source": [
    "import re\n",
    "import sys\n",
    "\n",
    "import time\n",
    "import datetime\n",
    "\n",
    "import numpy as np\n",
    "import pandas as pd\n",
    "\n",
    "import seaborn as sns\n",
    "import matplotlib.pyplot as plt\n",
    "\n",
    "from sklearn import metrics\n",
    "from sklearn import preprocessing\n",
    "from sklearn.neighbors import KNeighborsClassifier\n",
    "from sklearn.neighbors import KNeighborsRegressor\n",
    "from sklearn.ensemble import RandomForestClassifier\n",
    "from sklearn.ensemble import RandomForestRegressor\n",
    "from sklearn.model_selection import train_test_split\n",
    "import random\n"
   ]
  },
  {
   "cell_type": "code",
   "execution_count": 5,
   "metadata": {},
   "outputs": [
    {
     "name": "stdout",
     "output_type": "stream",
     "text": [
      "There are 32000 rows and 11 columns\n"
     ]
    }
   ],
   "source": [
    "data = pd.read_csv('Google-Playstore-32K.csv', delimiter=',')\n",
    "data.dataframeName = 'Google-Playstore-32K.csv'\n",
    "nRow, nCol = data.shape\n",
    "print(f'There are {nRow} rows and {nCol} columns')\n"
   ]
  },
  {
   "cell_type": "code",
   "execution_count": null,
   "metadata": {},
   "outputs": [],
   "source": []
  },
  {
   "cell_type": "code",
   "execution_count": 6,
   "metadata": {},
   "outputs": [],
   "source": [
    "data = data.sort_values('Installs', ascending=False)\n",
    "data = data.drop_duplicates(subset='App Name', keep='first')\n",
    "maxVal = 10000\n",
    "\n",
    "#detect null cols and null rate\n",
    "nulls = [i for i in data.isna().any().index if data.isna().any()[i]==True]\n",
    "rates = []\n",
    "counts = []\n",
    "for i in nulls:    \n",
    "    rates.append((data[i].isna().sum()/data.shape[0])*100)\n",
    "    counts.append(data[i].isna().sum())\n",
    "null_df = pd.DataFrame.from_dict({\"Col\":nulls,\"Count\":counts,\"Null_Rates\":rates})\n",
    "\n",
    "\n",
    "\n",
    "df_train = data.copy()\n",
    "#delete Reviews, Latest Version, null values row\n",
    "for i in ['Reviews','Latest Version']:\n",
    "    df_train = df_train.drop(df_train.loc[df_train[i].isnull()].index,0)\n",
    "\n",
    "# PreProcessing Rating Attribute\n",
    "df_train['Rating'].replace('Lessons', np.nan, inplace=True)\n",
    "df_train['Rating'].replace('GAME_STRATEGY', np.nan, inplace=True)\n",
    "df_train['Rating'].replace('NEWS_AND_MAGAZINES', np.nan, inplace=True)\n",
    "df_train['Rating'] = df_train['Rating'].fillna(df_train['Rating'].median())\n",
    "# for i in ['Rating']:\n",
    "#     df_train = df_train.drop(df_train.loc[df_train[i].isnull()].index,0)\n",
    "df_train['Rating'].astype(float).describe()\n",
    "\n",
    "\n",
    "# Remove '+' from end of each value\n",
    "df_train['Installs'] = df_train['Installs'].apply(lambda x : x.strip('+').replace(',', ''))\n",
    "\n",
    "regex = [r'GAME_[A-Za-z]+.*']\n",
    "for j in regex:\n",
    "    df_train['Category_Consolidated'] = df_train['Category'].astype(str).apply(lambda x : re.sub(j, 'GAME', x))\n",
    "    \n",
    "regex = [r'[-+|/:/;(_)@\\[\\]#�,>]', r'\\s+', r'[A-Za-z]+']\n",
    "for j in regex:\n",
    "    df_train['Latest Version'] = df_train['Latest Version'].astype(str).apply(lambda x : re.sub(j, '0', x))\n",
    "df_train['Latest Version'].replace('?.?', np.nan, inplace=True)\n",
    "\n",
    "df_train['Latest Version'] = df_train['Latest Version'].astype(str).apply(lambda x : x.replace('.', ',',1).replace('.', '').replace(',', '.',1)[:3]).astype(float)\n",
    "df_train['Latest Version'] = df_train['Latest Version'].fillna(df_train['Latest Version'].median())\n",
    "\n",
    "df_train['Category_Consolidated'].replace(' Channel 2 News', np.nan, inplace=True)\n",
    "df_train['Category_Consolidated'].replace(')', np.nan, inplace=True)\n",
    "df_train = df_train[pd.notnull(df_train['Category_Consolidated'])]\n",
    "\n",
    "# App values encoding\n",
    "le = preprocessing.LabelEncoder()\n",
    "df_train['App Name'] = le.fit_transform(df_train['App Name'])\n",
    "\n",
    "# Category features encoding\n",
    "category_list = df_train['Category_Consolidated'].unique().tolist() \n",
    "category_list = ['cat_' + word for word in category_list]\n",
    "df_train = pd.concat([df_train, pd.get_dummies(df_train['Category_Consolidated'], prefix='cat')], axis=1)\n",
    "\n",
    "# Encode Content Rating features\n",
    "le = preprocessing.LabelEncoder()\n",
    "df_train['Content Rating'] = le.fit_transform(df_train['Content Rating'])\n",
    "\n",
    "\n",
    "# Price \n",
    "df_train['Price'] = df_train['Price'].apply(lambda x : x.strip('$'))\n",
    "df_train['Price'].replace('Varies with device', np.nan, inplace=True)\n",
    "df_train['Price'] = df_train['Price'].fillna(df_train['Price'].median())\n",
    "\n",
    "df_train['Type'] = np.where(df_train['Price'].astype(float) > 0, 'Paid', 'Free')\n",
    "# Type encoding\n",
    "df_train['Type'] = pd.get_dummies(df_train['Type'])\n",
    "\n",
    "df_train['Last Updated'].replace('Everyone 10+', np.nan, inplace=True)\n",
    "df_train = df_train[pd.notnull(df_train['Last Updated'])]\n",
    "\n",
    "df_train['Last Updated'] = df_train['Last Updated'].apply(lambda x : time.mktime(datetime.datetime.strptime(x, '%B %d, %Y').timetuple()))\n",
    "\n",
    "\n",
    "regex = [r',']\n",
    "for j in regex:\n",
    "    df_train['Size'] = df_train['Size'].astype(str).apply(lambda x : re.sub(j, '', x))\n",
    "    \n",
    "# Convert kbytes to Mbytes \n",
    "k_indices = df_train['Size'].loc[df_train['Size'].str.contains('k')].index.tolist()\n",
    "converter = pd.DataFrame(df_train.loc[k_indices, 'Size'].apply(lambda x: x.strip('k')).astype(float).apply(lambda x: x / 1024).apply(lambda x: round(x, 3)).astype(str))\n",
    "df_train.loc[k_indices,'Size'] = converter\n",
    "\n",
    "\n",
    "df_train['Size'] = df_train['Size'].apply(lambda x: x.strip('M'))\n",
    "df_train.loc[df_train['Size'] == 'Varies with device', 'Size'] = 0\n",
    "# df_train[df_train['Size'] == 'Varies with device','Size'] = 0\n",
    "df_train['Size'] = df_train['Size'].astype(float)\n",
    "\n",
    "regex = [r'[-+|/:/;(_)@\\[\\]#�,>]', r'\\s+', r'[A-Za-z]+']\n",
    "for j in regex:\n",
    "    df_train['Minimum Version'] = df_train['Minimum Version'].astype(str).apply(lambda x : re.sub(j, '0', x))\n",
    "\n",
    "df_train['Minimum Version'] = df_train['Minimum Version'].astype(str).apply(lambda x : x.replace('.', ',',1).replace('.', '').replace(',', '.',1)[:3]).astype(float)\n",
    "df_train['Minimum Version'] = df_train['Minimum Version'].fillna(df_train['Minimum Version'].median())\n",
    "\n",
    "\n",
    "df_train['Installs'] = df_train['Installs'].astype(int)\n",
    "df_train['Price'] = df_train['Price'].astype(float)\n",
    "df_train['Rating'] = df_train['Rating'].astype(float)\n",
    "df_train['Reviews'] = df_train['Reviews'].astype(int)\n",
    "# df_train['Last Updated'] = df_train['Last Updated'].astype(float)\n",
    "\n",
    "df_train['Rating'] =df_train['Rating'].apply(lambda x: round(x, 2))\n"
   ]
  },
  {
   "cell_type": "code",
   "execution_count": 7,
   "metadata": {},
   "outputs": [
    {
     "data": {
      "text/plain": [
       "'Accuracy: 80.2%'"
      ]
     },
     "execution_count": 7,
     "metadata": {},
     "output_type": "execute_result"
    }
   ],
   "source": [
    "# Split data into training and testing sets\n",
    "features = ['App Name', 'Reviews', 'Size',\n",
    "            'Rating', 'Type', 'Price', \n",
    "            'Content Rating', 'Last Updated',\n",
    "            'Latest Version']\n",
    "\n",
    "features.extend(category_list)\n",
    "X = df_train[features][:maxVal]\n",
    "y = df_train['Installs'][:maxVal]\n",
    "\n",
    "X_train, X_test, y_train, y_test = train_test_split(X, y, test_size = 0.25, random_state = 10)\n",
    "\n",
    "\n",
    "\n",
    "import xgboost as xgb\n",
    "\n",
    "xgbModel = xgb.XGBClassifier()\n",
    "xgbModel.fit(X_train, y_train)\n",
    "accuracy = xgbModel.score(X_test,y_test)\n",
    "'Accuracy: ' + str(np.round(accuracy*100, 2)) + '%'"
   ]
  },
  {
   "cell_type": "code",
   "execution_count": 12,
   "metadata": {},
   "outputs": [
    {
     "data": {
      "text/plain": [
       "'Accuracy: 79.92%'"
      ]
     },
     "execution_count": 12,
     "metadata": {},
     "output_type": "execute_result"
    }
   ],
   "source": [
    "# Split data into training and testing sets\n",
    "features = ['Reviews', 'Size',\n",
    "            'Rating', 'Type',\n",
    "            'Content Rating']\n",
    "\n",
    "features.extend(category_list)\n",
    "X = df_train[features][:maxVal]\n",
    "y = df_train['Installs'][:maxVal]\n",
    "\n",
    "X_train, X_test, y_train, y_test = train_test_split(X, y, test_size = 0.25, random_state = 10)\n",
    "\n",
    "xgbModel = xgb.XGBClassifier()\n",
    "xgbModel.fit(X_train, y_train)\n",
    "accuracy = xgbModel.score(X_test,y_test)\n",
    "'Accuracy: ' + str(np.round(accuracy*100, 2)) + '%'"
   ]
  },
  {
   "cell_type": "code",
   "execution_count": 16,
   "metadata": {},
   "outputs": [
    {
     "name": "stderr",
     "output_type": "stream",
     "text": [
      "/usr/local/lib/python3.7/site-packages/sklearn/model_selection/_split.py:1978: FutureWarning: The default value of cv will change from 3 to 5 in version 0.22. Specify it explicitly to silence this warning.\n",
      "  warnings.warn(CV_WARNING, FutureWarning)\n",
      "[Parallel(n_jobs=-1)]: Using backend LokyBackend with 4 concurrent workers.\n",
      "/usr/local/lib/python3.7/site-packages/sklearn/model_selection/_split.py:657: Warning: The least populated class in y has only 2 members, which is too few. The minimum number of members in any class cannot be less than n_splits=3.\n",
      "  % (min_groups, self.n_splits)), Warning)\n",
      "[Parallel(n_jobs=-1)]: Done  60 out of  60 | elapsed: 42.4min finished\n"
     ]
    }
   ],
   "source": [
    "from sklearn.model_selection import validation_curve\n",
    "\n",
    "# define range of n_estimators\n",
    "paramRange = np.linspace(1, 800, 20).astype('int')\n",
    "\n",
    "# get list of training and validation scores for cv = 5\n",
    "(train_scores, test_scores) = validation_curve(xgb.XGBClassifier(), X_train,\n",
    "                                               y_train, param_name='n_estimators',\n",
    "                                               param_range= paramRange,\n",
    "                                               scoring='accuracy', n_jobs=-1, verbose=True)\n"
   ]
  },
  {
   "cell_type": "code",
   "execution_count": 17,
   "metadata": {},
   "outputs": [
    {
     "data": {
      "image/png": "[encoded data removed]",
      "text/plain": [
       "<Figure size 1080x576 with 1 Axes>"
      ]
     },
     "metadata": {
      "needs_background": "light"
     },
     "output_type": "display_data"
    },
    {
     "name": "stdout",
     "output_type": "stream",
     "text": [
      "Best cross-validation result (0.81) obtained for 211 trees\n"
     ]
    }
   ],
   "source": [
    "from pylab import rcParams\n",
    "rcParams['figure.figsize'] = 15, 8\n",
    "\n",
    "# Code Referred from https://chrisalbon.com/machine_learning/model_evaluation/plot_the_validation_curve/\n",
    "# find mean value of training and validation f1-score\n",
    "train_mean = np.mean(train_scores, axis=1)\n",
    "test_mean = np.mean(test_scores, axis=1)\n",
    "\n",
    "plt.plot(paramRange, train_mean, \n",
    "         label='Training score',\n",
    "         color='green')\n",
    "\n",
    "plt.plot(paramRange, test_mean,\n",
    "         label='Cross-validation score', \n",
    "         color='blue')\n",
    "\n",
    "plt.axhline(y=1, color='k', ls='dashed')\n",
    "\n",
    "# plot validation graph\n",
    "plt.xlabel('n_estimators', fontsize=12)\n",
    "plt.ylabel('f1 Score', fontsize=12)\n",
    "plt.title('Validation Curve using XgBoost Classifier')\n",
    "plt.ylim(0.7, 1.05)\n",
    "plt.legend(loc='best')\n",
    "plt.show()\n",
    "i = np.argmax(test_mean)\n",
    "print(\"Best cross-validation result ({0:.2f}) obtained for {1} trees\".format(test_mean[i], paramRange[i]))\n"
   ]
  },
  {
   "cell_type": "code",
   "execution_count": 9,
   "metadata": {},
   "outputs": [
    {
     "data": {
      "text/plain": [
       "20981    HEALTH_AND_FITNESS\n",
       "6747           PRODUCTIVITY\n",
       "420            PRODUCTIVITY\n",
       "820                    GAME\n",
       "304           ENTERTAINMENT\n",
       "                ...        \n",
       "11503                  GAME\n",
       "4854                   GAME\n",
       "2916                   GAME\n",
       "25708         ENTERTAINMENT\n",
       "24784             EDUCATION\n",
       "Name: Category_Consolidated, Length: 30841, dtype: object"
      ]
     },
     "execution_count": 9,
     "metadata": {},
     "output_type": "execute_result"
    }
   ],
   "source": [
    "df_train[\"Category_Consolidated\"]"
   ]
  },
  {
   "cell_type": "code",
   "execution_count": null,
   "metadata": {},
   "outputs": [],
   "source": []
  }
 ],
 "metadata": {
  "kernelspec": {
   "display_name": "Python 3",
   "language": "python",
   "name": "python3"
  },
  "language_info": {
   "codemirror_mode": {
    "name": "ipython",
    "version": 3
   },
   "file_extension": ".py",
   "mimetype": "text/x-python",
   "name": "python",
   "nbconvert_exporter": "python",
   "pygments_lexer": "ipython3",
   "version": "3.7.4"
  }
 },
 "nbformat": 4,
 "nbformat_minor": 2
}
