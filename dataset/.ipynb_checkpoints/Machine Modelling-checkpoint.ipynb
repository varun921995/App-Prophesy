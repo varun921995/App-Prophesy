{
 "cells": [
  {
   "cell_type": "code",
   "execution_count": 1,
   "metadata": {},
   "outputs": [],
   "source": [
    "import re\n",
    "import sys\n",
    "\n",
    "import time\n",
    "import datetime\n",
    "\n",
    "import numpy as np\n",
    "import pandas as pd\n",
    "\n",
    "import seaborn as sns\n",
    "import matplotlib.pyplot as plt\n",
    "\n",
    "from sklearn import metrics\n",
    "from sklearn import preprocessing\n",
    "from sklearn.neighbors import KNeighborsClassifier\n",
    "from sklearn.neighbors import KNeighborsRegressor\n",
    "from sklearn.ensemble import RandomForestClassifier\n",
    "from sklearn.ensemble import RandomForestRegressor\n",
    "from sklearn.model_selection import train_test_split\n",
    "import random\n"
   ]
  },
  {
   "cell_type": "code",
   "execution_count": 2,
   "metadata": {},
   "outputs": [
    {
     "name": "stdout",
     "output_type": "stream",
     "text": [
      "There are 32000 rows and 11 columns\n"
     ]
    }
   ],
   "source": [
    "data = pd.read_csv('Google-Playstore-32K.csv', delimiter=',')\n",
    "data.dataframeName = 'Google-Playstore-32K.csv'\n",
    "nRow, nCol = data.shape\n",
    "print(f'There are {nRow} rows and {nCol} columns')\n"
   ]
  },
  {
   "cell_type": "code",
   "execution_count": 3,
   "metadata": {},
   "outputs": [
    {
     "name": "stdout",
     "output_type": "stream",
     "text": [
      "<class 'pandas.core.frame.DataFrame'>\n",
      "Int64Index: 30845 entries, 6941 to 24784\n",
      "Data columns (total 11 columns):\n",
      "App Name           30845 non-null object\n",
      "Category           30845 non-null object\n",
      "Rating             30845 non-null object\n",
      "Reviews            30844 non-null float64\n",
      "Installs           30845 non-null object\n",
      "Size               30845 non-null object\n",
      "Price              30845 non-null object\n",
      "Content Rating     30845 non-null object\n",
      "Last Updated       30845 non-null object\n",
      "Minimum Version    30845 non-null object\n",
      "Latest Version     30844 non-null object\n",
      "dtypes: float64(1), object(10)\n",
      "memory usage: 2.8+ MB\n"
     ]
    }
   ],
   "source": [
    "data = data.sort_values('Installs', ascending=False)\n",
    "data = data.drop_duplicates(subset='App Name', keep='first')\n",
    "maxVal = 10000"
   ]
  },
  {
   "cell_type": "code",
   "execution_count": 4,
   "metadata": {},
   "outputs": [],
   "source": [
    "#detect null cols and null rate\n",
    "nulls = [i for i in data.isna().any().index if data.isna().any()[i]==True]\n",
    "rates = []\n",
    "counts = []\n",
    "for i in nulls:    \n",
    "    rates.append((data[i].isna().sum()/data.shape[0])*100)\n",
    "    counts.append(data[i].isna().sum())\n",
    "null_df = pd.DataFrame.from_dict({\"Col\":nulls,\"Count\":counts,\"Null_Rates\":rates})\n",
    "\n",
    "\n",
    "\n",
    "df_train = data.copy()\n",
    "#delete Reviews, Latest Version, null values row\n",
    "for i in ['Reviews','Latest Version']:\n",
    "    df_train = df_train.drop(df_train.loc[df_train[i].isnull()].index,0)\n",
    "\n",
    "# PreProcessing Rating Attribute\n",
    "df_train['Rating'].replace('Lessons', np.nan, inplace=True)\n",
    "df_train['Rating'].replace('GAME_STRATEGY', np.nan, inplace=True)\n",
    "df_train['Rating'].replace('NEWS_AND_MAGAZINES', np.nan, inplace=True)\n",
    "df_train['Rating'] = df_train['Rating'].fillna(df_train['Rating'].median())\n",
    "# for i in ['Rating']:\n",
    "#     df_train = df_train.drop(df_train.loc[df_train[i].isnull()].index,0)\n",
    "df_train['Rating'].astype(float).describe()\n",
    "\n",
    "\n",
    "# Remove '+' from end of each value\n",
    "df_train['Installs'] = df_train['Installs'].apply(lambda x : x.strip('+').replace(',', ''))\n",
    "\n",
    "regex = [r'GAME_[A-Za-z]+.*']\n",
    "for j in regex:\n",
    "    df_train['Category'] = df_train['Category'].astype(str).apply(lambda x : re.sub(j, 'GAME', x))\n",
    "    \n",
    "regex = [r'[-+|/:/;(_)@\\[\\]#�,>]', r'\\s+', r'[A-Za-z]+']\n",
    "for j in regex:\n",
    "    df_train['Latest Version'] = df_train['Latest Version'].astype(str).apply(lambda x : re.sub(j, '0', x))\n",
    "df_train['Latest Version'].replace('?.?', np.nan, inplace=True)\n",
    "\n",
    "df_train['Latest Version'] = df_train['Latest Version'].astype(str).apply(lambda x : x.replace('.', ',',1).replace('.', '').replace(',', '.',1)[:3]).astype(float)\n",
    "df_train['Latest Version'] = df_train['Latest Version'].fillna(df_train['Latest Version'].median())\n",
    "\n",
    "df_train['Category'].replace(' Channel 2 News', np.nan, inplace=True)\n",
    "df_train['Category'].replace(')', np.nan, inplace=True)\n",
    "df_train = df_train[pd.notnull(df_train['Category'])]\n",
    "\n",
    "# App values encoding\n",
    "le = preprocessing.LabelEncoder()\n",
    "df_train['App Name'] = le.fit_transform(df_train['App Name'])\n",
    "\n",
    "# Category features encoding\n",
    "category_list = df_train['Category'].unique().tolist() \n",
    "category_list = ['cat_' + word for word in category_list]\n",
    "df_train = pd.concat([df_train, pd.get_dummies(df_train['Category'], prefix='cat')], axis=1)\n",
    "\n",
    "# Encode Content Rating features\n",
    "le = preprocessing.LabelEncoder()\n",
    "df_train['Content Rating'] = le.fit_transform(df_train['Content Rating'])\n",
    "\n",
    "\n",
    "# Price \n",
    "df_train['Price'] = df_train['Price'].apply(lambda x : x.strip('$'))\n",
    "df_train['Price'].replace('Varies with device', np.nan, inplace=True)\n",
    "df_train['Price'] = df_train['Price'].fillna(df_train['Price'].median())\n",
    "\n",
    "df_train['Type'] = np.where(df_train['Price'].astype(float) > 0, 'Paid', 'Free')\n",
    "# Type encoding\n",
    "df_train['Type'] = pd.get_dummies(df_train['Type'])\n",
    "\n",
    "df_train['Last Updated'].replace('Everyone 10+', np.nan, inplace=True)\n",
    "df_train = df_train[pd.notnull(df_train['Last Updated'])]\n",
    "\n",
    "df_train['Last Updated'] = df_train['Last Updated'].apply(lambda x : time.mktime(datetime.datetime.strptime(x, '%B %d, %Y').timetuple()))\n",
    "\n",
    "\n",
    "regex = [r',']\n",
    "for j in regex:\n",
    "    df_train['Size'] = df_train['Size'].astype(str).apply(lambda x : re.sub(j, '', x))\n",
    "    \n",
    "# Convert kbytes to Mbytes \n",
    "k_indices = df_train['Size'].loc[df_train['Size'].str.contains('k')].index.tolist()\n",
    "converter = pd.DataFrame(df_train.loc[k_indices, 'Size'].apply(lambda x: x.strip('k')).astype(float).apply(lambda x: x / 1024).apply(lambda x: round(x, 3)).astype(str))\n",
    "df_train.loc[k_indices,'Size'] = converter\n",
    "\n",
    "\n",
    "df_train['Size'] = df_train['Size'].apply(lambda x: x.strip('M'))\n",
    "df_train.loc[df_train['Size'] == 'Varies with device', 'Size'] = 0\n",
    "# df_train[df_train['Size'] == 'Varies with device','Size'] = 0\n",
    "df_train['Size'] = df_train['Size'].astype(float)\n",
    "\n",
    "regex = [r'[-+|/:/;(_)@\\[\\]#�,>]', r'\\s+', r'[A-Za-z]+']\n",
    "for j in regex:\n",
    "    df_train['Minimum Version'] = df_train['Minimum Version'].astype(str).apply(lambda x : re.sub(j, '0', x))\n",
    "\n",
    "df_train['Minimum Version'] = df_train['Minimum Version'].astype(str).apply(lambda x : x.replace('.', ',',1).replace('.', '').replace(',', '.',1)[:3]).astype(float)\n",
    "df_train['Minimum Version'] = df_train['Minimum Version'].fillna(df_train['Minimum Version'].median())\n",
    "\n",
    "\n",
    "df_train['Installs'] = df_train['Installs'].astype(int)\n",
    "df_train['Price'] = df_train['Price'].astype(float)\n",
    "df_train['Rating'] = df_train['Rating'].astype(float)\n",
    "df_train['Reviews'] = df_train['Reviews'].astype(int)\n",
    "# df_train['Last Updated'] = df_train['Last Updated'].astype(float)\n",
    "\n",
    "df_train['Rating'] =df_train['Rating'].apply(lambda x: round(x, 2))\n"
   ]
  },
  {
   "cell_type": "code",
   "execution_count": 5,
   "metadata": {},
   "outputs": [],
   "source": [
    "# Split data into training and testing sets\n",
    "features = ['App Name', 'Reviews', 'Size', 'Rating', 'Type', 'Price', 'Content Rating', 'Last Updated', 'Latest Version']\n",
    "features.extend(category_list)\n",
    "X = df_train[features][:maxVal]\n",
    "y = df_train['Installs'][:maxVal]\n",
    "\n",
    "# Takin\n",
    "X_train, X_test, y_train, y_test = train_test_split(X, y, test_size = 0.25, random_state = 10)\n"
   ]
  },
  {
   "cell_type": "code",
   "execution_count": 6,
   "metadata": {},
   "outputs": [
    {
     "data": {
      "text/plain": [
       "'Accuracy: 80.2%'"
      ]
     },
     "execution_count": 6,
     "metadata": {},
     "output_type": "execute_result"
    }
   ],
   "source": [
    "import xgboost as xgb\n",
    "\n",
    "xgbModel = xgb.XGBClassifier()\n",
    "xgbModel.fit(X_train, y_train)\n",
    "accuracy = xgbModel.score(X_test,y_test)\n",
    "'Accuracy: ' + str(np.round(accuracy*100, 2)) + '%'"
   ]
  },
  {
   "cell_type": "code",
   "execution_count": null,
   "metadata": {},
   "outputs": [],
   "source": []
  }
 ],
 "metadata": {
  "kernelspec": {
   "display_name": "Python 3",
   "language": "python",
   "name": "python3"
  },
  "language_info": {
   "codemirror_mode": {
    "name": "ipython",
    "version": 3
   },
   "file_extension": ".py",
   "mimetype": "text/x-python",
   "name": "python",
   "nbconvert_exporter": "python",
   "pygments_lexer": "ipython3",
   "version": "3.7.4"
  }
 },
 "nbformat": 4,
 "nbformat_minor": 2
}
